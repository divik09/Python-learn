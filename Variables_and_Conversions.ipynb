{
  "nbformat": 4,
  "nbformat_minor": 0,
  "metadata": {
    "colab": {
      "provenance": []
    },
    "kernelspec": {
      "name": "python3",
      "display_name": "Python 3"
    },
    "language_info": {
      "name": "python"
    }
  },
  "cells": [
    {
      "cell_type": "code",
      "execution_count": 1,
      "metadata": {
        "id": "ZLOuHfXGgk2v"
      },
      "outputs": [],
      "source": [
        "its_int=23\n",
        "its_float = 3.4\n",
        "its_string=\"Show\""
      ]
    },
    {
      "cell_type": "code",
      "source": [
        "print(\"It's Interger\",its_int);\n",
        "print(\"It's Float\",its_float);\n",
        "print(\"It's String\",its_string);"
      ],
      "metadata": {
        "colab": {
          "base_uri": "https://localhost:8080/"
        },
        "id": "GumdiSe9hxcw",
        "outputId": "f42bb4ee-01e2-44df-cf32-6b2e4534e20e"
      },
      "execution_count": 2,
      "outputs": [
        {
          "output_type": "stream",
          "name": "stdout",
          "text": [
            "It's Interger 23\n",
            "It's Float 3.4\n",
            "It's String Show\n"
          ]
        }
      ]
    },
    {
      "cell_type": "code",
      "source": [
        "interger_to_float = float(its_int);\n",
        "float_to_integer = int(its_float);\n",
        "string_to_integer = int(\"232\");"
      ],
      "metadata": {
        "id": "_khuCDySiFoq"
      },
      "execution_count": 5,
      "outputs": []
    },
    {
      "cell_type": "code",
      "source": [
        "print(\"Converted Integer to Float:\", interger_to_float)\n",
        "print(\"Converted Float to Integer:\", float_to_integer)\n",
        "print(\"Converted String to Integer:\", string_to_integer)"
      ],
      "metadata": {
        "colab": {
          "base_uri": "https://localhost:8080/"
        },
        "id": "z9VbiHdJitLG",
        "outputId": "5f87dae2-3fdb-45f6-ae4f-9f58fb43cbd8"
      },
      "execution_count": 7,
      "outputs": [
        {
          "output_type": "stream",
          "name": "stdout",
          "text": [
            "Converted Integer to Float: 23.0\n",
            "Converted Float to Integer: 3\n",
            "Converted String to Integer: 232\n"
          ]
        }
      ]
    }
  ]
}