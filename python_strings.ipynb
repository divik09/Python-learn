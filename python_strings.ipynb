{
  "nbformat": 4,
  "nbformat_minor": 0,
  "metadata": {
    "colab": {
      "provenance": []
    },
    "kernelspec": {
      "name": "python3",
      "display_name": "Python 3"
    },
    "language_info": {
      "name": "python"
    }
  },
  "cells": [
    {
      "cell_type": "code",
      "execution_count": 1,
      "metadata": {
        "colab": {
          "base_uri": "https://localhost:8080/"
        },
        "id": "LsTBjh5HENg2",
        "outputId": "62d20c32-b62e-4379-820f-a7ce6375ac40"
      },
      "outputs": [
        {
          "output_type": "stream",
          "name": "stdout",
          "text": [
            "Hello World\n"
          ]
        }
      ],
      "source": [
        "str1 = \"Hello\"\n",
        "str2 = \"World\"\n",
        "result = str1 + \" \" + str2\n",
        "\n",
        "print(result)"
      ]
    },
    {
      "cell_type": "code",
      "source": [
        "str1 = \"1\"\n",
        "str2 = \"2\"\n",
        "result = str1 + \"-\" + str2\n",
        "\n",
        "print(result)"
      ],
      "metadata": {
        "colab": {
          "base_uri": "https://localhost:8080/"
        },
        "id": "wgk7Lpbey4mh",
        "outputId": "b8aba560-ced1-46ff-e140-7237390effb3"
      },
      "execution_count": 2,
      "outputs": [
        {
          "output_type": "stream",
          "name": "stdout",
          "text": [
            "1-2\n"
          ]
        }
      ]
    },
    {
      "cell_type": "code",
      "source": [
        "str1 = \"Hello\"\n",
        "str2 = \"100\"\n",
        "result = str1 + \" \" + str2\n",
        "\n",
        "print(result)"
      ],
      "metadata": {
        "colab": {
          "base_uri": "https://localhost:8080/"
        },
        "id": "c9dHK84zy99U",
        "outputId": "c42ea67c-934b-422f-8f12-5a34fac13af7"
      },
      "execution_count": 3,
      "outputs": [
        {
          "output_type": "stream",
          "name": "stdout",
          "text": [
            "Hello 100\n"
          ]
        }
      ]
    },
    {
      "cell_type": "code",
      "source": [
        "name = \"Alice\"\n",
        "age = 30\n",
        "formatted_string = f\"My name is {name} and I am {age} years old.\"\n",
        "\n",
        "formatted_string"
      ],
      "metadata": {
        "colab": {
          "base_uri": "https://localhost:8080/",
          "height": 35
        },
        "id": "D9wHYtoLzDvw",
        "outputId": "5fae4efa-af7d-4a0e-9658-51eb30b77beb"
      },
      "execution_count": 4,
      "outputs": [
        {
          "output_type": "execute_result",
          "data": {
            "text/plain": [
              "'My name is Alice and I am 30 years old.'"
            ],
            "application/vnd.google.colaboratory.intrinsic+json": {
              "type": "string"
            }
          },
          "metadata": {},
          "execution_count": 4
        }
      ]
    },
    {
      "cell_type": "code",
      "source": [
        "# Example 2 (Using %-formatting)\n",
        "product = \"apple\"\n",
        "price = 0.75\n",
        "formatted_string = \"The %s costs $%.2f\" % (product, price)\n",
        "\n",
        "formatted_string"
      ],
      "metadata": {
        "colab": {
          "base_uri": "https://localhost:8080/",
          "height": 35
        },
        "id": "YrzIHCaWzPdY",
        "outputId": "d336ebed-32be-4eb1-dca1-fd210e527b40"
      },
      "execution_count": 5,
      "outputs": [
        {
          "output_type": "execute_result",
          "data": {
            "text/plain": [
              "'The apple costs $0.75'"
            ],
            "application/vnd.google.colaboratory.intrinsic+json": {
              "type": "string"
            }
          },
          "metadata": {},
          "execution_count": 5
        }
      ]
    },
    {
      "cell_type": "code",
      "source": [
        "city = \"New York\"\n",
        "population = 8_400_000\n",
        "formatted_string = \"The population of {} is {}.\".format(city, population)\n",
        "\n",
        "formatted_string"
      ],
      "metadata": {
        "colab": {
          "base_uri": "https://localhost:8080/",
          "height": 35
        },
        "id": "3GexEf8Yze8_",
        "outputId": "0aa86274-67f6-423e-ef14-835717dd84f9"
      },
      "execution_count": 6,
      "outputs": [
        {
          "output_type": "execute_result",
          "data": {
            "text/plain": [
              "'The population of New York is 8400000.'"
            ],
            "application/vnd.google.colaboratory.intrinsic+json": {
              "type": "string"
            }
          },
          "metadata": {},
          "execution_count": 6
        }
      ]
    },
    {
      "cell_type": "code",
      "source": [
        "item = \"book\"\n",
        "price = 15.99\n",
        "formatted_string = \"A {} costs ${:.2f}\".format(item, price)\n",
        "\n",
        "formatted_string"
      ],
      "metadata": {
        "id": "-_hGJg_GzlrH"
      },
      "execution_count": null,
      "outputs": []
    },
    {
      "cell_type": "code",
      "source": [
        "fruit = \"banana\"\n",
        "quantity = 5\n",
        "formatted_string = \"I bought {qty} {fruit}s.\".format(qty=quantity, fruit=fruit)\n",
        "\n",
        "formatted_string"
      ],
      "metadata": {
        "colab": {
          "base_uri": "https://localhost:8080/",
          "height": 35
        },
        "id": "9H6NycF6zwB5",
        "outputId": "d081a9cc-04fc-4be8-db4c-e969d3c413f1"
      },
      "execution_count": 7,
      "outputs": [
        {
          "output_type": "execute_result",
          "data": {
            "text/plain": [
              "'I bought 5 bananas.'"
            ],
            "application/vnd.google.colaboratory.intrinsic+json": {
              "type": "string"
            }
          },
          "metadata": {},
          "execution_count": 7
        }
      ]
    },
    {
      "cell_type": "code",
      "source": [
        "my_string = \"Python\""
      ],
      "metadata": {
        "id": "Mlje-WYzz1lj"
      },
      "execution_count": 9,
      "outputs": []
    },
    {
      "cell_type": "code",
      "source": [
        "first_char = my_string[0]\n",
        "print(first_char)"
      ],
      "metadata": {
        "colab": {
          "base_uri": "https://localhost:8080/"
        },
        "id": "6Oo6AHbgz5SX",
        "outputId": "80cd68ac-0aa7-4c39-cb41-e40105c2cc9d"
      },
      "execution_count": 10,
      "outputs": [
        {
          "output_type": "stream",
          "name": "stdout",
          "text": [
            "P\n"
          ]
        }
      ]
    },
    {
      "cell_type": "code",
      "source": [
        "my_string = \"GreatLearning\"\n",
        "substring = my_string[2:5]\n",
        "# substring is 'tho'\n",
        "\n",
        "substring"
      ],
      "metadata": {
        "colab": {
          "base_uri": "https://localhost:8080/",
          "height": 35
        },
        "id": "v6bu9IXC0G_6",
        "outputId": "2890f4cf-050d-41a2-8101-ae06f41df65b"
      },
      "execution_count": 11,
      "outputs": [
        {
          "output_type": "execute_result",
          "data": {
            "text/plain": [
              "'eat'"
            ],
            "application/vnd.google.colaboratory.intrinsic+json": {
              "type": "string"
            }
          },
          "metadata": {},
          "execution_count": 11
        }
      ]
    },
    {
      "cell_type": "code",
      "source": [
        "first_three_chars = my_string[:3]\n",
        "# first_three_chars is 'Pyt'\n",
        "\n",
        "first_three_chars"
      ],
      "metadata": {
        "colab": {
          "base_uri": "https://localhost:8080/",
          "height": 35
        },
        "id": "Jl3HeKyD0J71",
        "outputId": "619cf28d-775f-4334-b0a0-23ad6b95f272"
      },
      "execution_count": 12,
      "outputs": [
        {
          "output_type": "execute_result",
          "data": {
            "text/plain": [
              "'Gre'"
            ],
            "application/vnd.google.colaboratory.intrinsic+json": {
              "type": "string"
            }
          },
          "metadata": {},
          "execution_count": 12
        }
      ]
    },
    {
      "cell_type": "code",
      "source": [
        "last_three_chars = my_string[-3:]\n",
        "# last_three_chars is 'hon'\n",
        "\n",
        "last_three_chars"
      ],
      "metadata": {
        "colab": {
          "base_uri": "https://localhost:8080/",
          "height": 35
        },
        "id": "RqxJ_PM50Mj7",
        "outputId": "7cfc9833-cde4-4fab-eab3-426b672e6e8c"
      },
      "execution_count": 13,
      "outputs": [
        {
          "output_type": "execute_result",
          "data": {
            "text/plain": [
              "'ing'"
            ],
            "application/vnd.google.colaboratory.intrinsic+json": {
              "type": "string"
            }
          },
          "metadata": {},
          "execution_count": 13
        }
      ]
    },
    {
      "cell_type": "code",
      "source": [
        "every_other_char = my_string[::2]\n",
        "# every_other_char is 'Pto'\n",
        "\n",
        "every_other_char"
      ],
      "metadata": {
        "colab": {
          "base_uri": "https://localhost:8080/",
          "height": 35
        },
        "id": "7NSQYh8_0N07",
        "outputId": "ba85adda-b6ae-4480-de47-aa0cff1d3a7e"
      },
      "execution_count": 14,
      "outputs": [
        {
          "output_type": "execute_result",
          "data": {
            "text/plain": [
              "'Geterig'"
            ],
            "application/vnd.google.colaboratory.intrinsic+json": {
              "type": "string"
            }
          },
          "metadata": {},
          "execution_count": 14
        }
      ]
    },
    {
      "cell_type": "code",
      "source": [
        "reversed_string = my_string[::-1]\n",
        "# reversed_string is 'nohtyP'\n",
        "\n",
        "reversed_string"
      ],
      "metadata": {
        "colab": {
          "base_uri": "https://localhost:8080/",
          "height": 35
        },
        "id": "805MXGcU0QsW",
        "outputId": "ea6d0e16-ac29-4ab1-d885-925116687c5f"
      },
      "execution_count": 15,
      "outputs": [
        {
          "output_type": "execute_result",
          "data": {
            "text/plain": [
              "'gninraeLtaerG'"
            ],
            "application/vnd.google.colaboratory.intrinsic+json": {
              "type": "string"
            }
          },
          "metadata": {},
          "execution_count": 15
        }
      ]
    },
    {
      "cell_type": "code",
      "source": [
        "my_string = \"Hello, World!\"\n",
        "length = len(my_string)\n",
        "\n",
        "length"
      ],
      "metadata": {
        "colab": {
          "base_uri": "https://localhost:8080/"
        },
        "id": "uvrCdGCP0VAS",
        "outputId": "b24501ed-dab0-4636-c98a-cdcd36b12ed3"
      },
      "execution_count": 16,
      "outputs": [
        {
          "output_type": "execute_result",
          "data": {
            "text/plain": [
              "13"
            ]
          },
          "metadata": {},
          "execution_count": 16
        }
      ]
    },
    {
      "cell_type": "code",
      "source": [
        "empty_string = \"\"\n",
        "length = len(empty_string)\n",
        "\n",
        "length"
      ],
      "metadata": {
        "colab": {
          "base_uri": "https://localhost:8080/"
        },
        "id": "XdQm0tAp0WQg",
        "outputId": "767de4a5-bb4a-4708-f9dd-d89ed050af5a"
      },
      "execution_count": 17,
      "outputs": [
        {
          "output_type": "execute_result",
          "data": {
            "text/plain": [
              "0"
            ]
          },
          "metadata": {},
          "execution_count": 17
        }
      ]
    },
    {
      "cell_type": "code",
      "source": [
        "long_string = \"This is a very long string with lots of characters.\"\n",
        "length = len(long_string)\n",
        "\n",
        "length"
      ],
      "metadata": {
        "colab": {
          "base_uri": "https://localhost:8080/"
        },
        "id": "FX3w5eXY0adx",
        "outputId": "1bd6bda0-a03d-4ecd-a5d9-a6b5d198632c"
      },
      "execution_count": 18,
      "outputs": [
        {
          "output_type": "execute_result",
          "data": {
            "text/plain": [
              "51"
            ]
          },
          "metadata": {},
          "execution_count": 18
        }
      ]
    },
    {
      "cell_type": "code",
      "source": [
        "unicode_string = \"Αυτή είναι μια συμβολοσειρά σε Unicode.\"\n",
        "length = len(unicode_string)\n",
        "\n",
        "length"
      ],
      "metadata": {
        "colab": {
          "base_uri": "https://localhost:8080/"
        },
        "id": "7B8Oe1xj0gTd",
        "outputId": "3914a88e-9071-43f5-ccd5-d681ce0ff9e8"
      },
      "execution_count": 19,
      "outputs": [
        {
          "output_type": "execute_result",
          "data": {
            "text/plain": [
              "39"
            ]
          },
          "metadata": {},
          "execution_count": 19
        }
      ]
    },
    {
      "cell_type": "code",
      "source": [
        "newline_string = \"Line 1\\nLine 2\\nLine 3\"\n",
        "length = len(newline_string)\n",
        "\n",
        "length"
      ],
      "metadata": {
        "colab": {
          "base_uri": "https://localhost:8080/"
        },
        "id": "RqxZD3v00h7z",
        "outputId": "431d3125-2863-44ef-80da-a77f5991ce07"
      },
      "execution_count": 20,
      "outputs": [
        {
          "output_type": "execute_result",
          "data": {
            "text/plain": [
              "20"
            ]
          },
          "metadata": {},
          "execution_count": 20
        }
      ]
    },
    {
      "cell_type": "code",
      "source": [
        "my_string = \"Hello, World!\"\n",
        "uppercase_string = my_string.upper()\n",
        "\n",
        "uppercase_string"
      ],
      "metadata": {
        "colab": {
          "base_uri": "https://localhost:8080/",
          "height": 35
        },
        "id": "54KApnFu0kLa",
        "outputId": "7d45ab0e-070c-4b0d-c677-f8b78023de85"
      },
      "execution_count": 21,
      "outputs": [
        {
          "output_type": "execute_result",
          "data": {
            "text/plain": [
              "'HELLO, WORLD!'"
            ],
            "application/vnd.google.colaboratory.intrinsic+json": {
              "type": "string"
            }
          },
          "metadata": {},
          "execution_count": 21
        }
      ]
    },
    {
      "cell_type": "code",
      "source": [
        "lowercase_string = my_string.lower()\n",
        "\n",
        "lowercase_string"
      ],
      "metadata": {
        "colab": {
          "base_uri": "https://localhost:8080/",
          "height": 35
        },
        "id": "UZUD0eUj0nXe",
        "outputId": "ad6e06e3-f2c8-43a0-9b03-2fce5a4d74d8"
      },
      "execution_count": 22,
      "outputs": [
        {
          "output_type": "execute_result",
          "data": {
            "text/plain": [
              "'hello, world!'"
            ],
            "application/vnd.google.colaboratory.intrinsic+json": {
              "type": "string"
            }
          },
          "metadata": {},
          "execution_count": 22
        }
      ]
    },
    {
      "cell_type": "code",
      "source": [
        "my_string = \"   Python   \"\n",
        "stripped_string = my_string.strip()\n",
        "\n",
        "stripped_string"
      ],
      "metadata": {
        "colab": {
          "base_uri": "https://localhost:8080/",
          "height": 35
        },
        "id": "zWb98Ui10ucc",
        "outputId": "22a53e46-b05b-4021-e400-59d2b32f349f"
      },
      "execution_count": 23,
      "outputs": [
        {
          "output_type": "execute_result",
          "data": {
            "text/plain": [
              "'Python'"
            ],
            "application/vnd.google.colaboratory.intrinsic+json": {
              "type": "string"
            }
          },
          "metadata": {},
          "execution_count": 23
        }
      ]
    },
    {
      "cell_type": "code",
      "source": [
        "original_string = \"I like cats.\"\n",
        "new_string = original_string.replace(\"cats\", \"dogs\")\n",
        "\n",
        "new_string"
      ],
      "metadata": {
        "colab": {
          "base_uri": "https://localhost:8080/",
          "height": 35
        },
        "id": "8llF5bsS0zbd",
        "outputId": "247375f7-c62a-46e8-f2c3-b73354def845"
      },
      "execution_count": 24,
      "outputs": [
        {
          "output_type": "execute_result",
          "data": {
            "text/plain": [
              "'I like dogs.'"
            ],
            "application/vnd.google.colaboratory.intrinsic+json": {
              "type": "string"
            }
          },
          "metadata": {},
          "execution_count": 24
        }
      ]
    },
    {
      "cell_type": "code",
      "source": [
        "sentence = \"This is a sentence.\"\n",
        "words = sentence.split()\n",
        "\n",
        "words"
      ],
      "metadata": {
        "colab": {
          "base_uri": "https://localhost:8080/"
        },
        "id": "sytagdXm0043",
        "outputId": "ac27fd61-ab0a-48f1-a062-640190daa414"
      },
      "execution_count": 25,
      "outputs": [
        {
          "output_type": "execute_result",
          "data": {
            "text/plain": [
              "['This', 'is', 'a', 'sentence.']"
            ]
          },
          "metadata": {},
          "execution_count": 25
        }
      ]
    },
    {
      "cell_type": "code",
      "source": [
        "my_string = \"Hello, World!\"\n",
        "index = my_string.find(\"World\")\n",
        "\n",
        "index"
      ],
      "metadata": {
        "colab": {
          "base_uri": "https://localhost:8080/"
        },
        "id": "8EpyPSX-06L5",
        "outputId": "d98340de-5caf-4c2b-f340-7b8f3c9e7242"
      },
      "execution_count": 26,
      "outputs": [
        {
          "output_type": "execute_result",
          "data": {
            "text/plain": [
              "7"
            ]
          },
          "metadata": {},
          "execution_count": 26
        }
      ]
    },
    {
      "cell_type": "code",
      "source": [
        "starts_with_hello = my_string.startswith(\"Hello\")\n",
        "\n",
        "starts_with_hello"
      ],
      "metadata": {
        "colab": {
          "base_uri": "https://localhost:8080/"
        },
        "id": "AQ93AjB51C5C",
        "outputId": "7ee5f851-552b-4d29-ab30-3a8f65fa72e1"
      },
      "execution_count": 27,
      "outputs": [
        {
          "output_type": "execute_result",
          "data": {
            "text/plain": [
              "True"
            ]
          },
          "metadata": {},
          "execution_count": 27
        }
      ]
    },
    {
      "cell_type": "code",
      "source": [
        "ends_with_exclamation = my_string.endswith(\"#\")\n",
        "\n",
        "ends_with_exclamation"
      ],
      "metadata": {
        "colab": {
          "base_uri": "https://localhost:8080/"
        },
        "id": "d3nq4W8c1JoU",
        "outputId": "e1da0b6b-5376-4f59-af19-4963e01d4dd8"
      },
      "execution_count": 28,
      "outputs": [
        {
          "output_type": "execute_result",
          "data": {
            "text/plain": [
              "False"
            ]
          },
          "metadata": {},
          "execution_count": 28
        }
      ]
    },
    {
      "cell_type": "code",
      "source": [
        "sentence = \"this is a sentence.\"\n",
        "capitalized_sentence = sentence.capitalize()\n",
        "\n",
        "capitalized_sentence"
      ],
      "metadata": {
        "colab": {
          "base_uri": "https://localhost:8080/",
          "height": 35
        },
        "id": "vSDrOHoi1O-3",
        "outputId": "8a8c256f-a91f-4466-a309-df34e26f11e3"
      },
      "execution_count": 29,
      "outputs": [
        {
          "output_type": "execute_result",
          "data": {
            "text/plain": [
              "'This is a sentence.'"
            ],
            "application/vnd.google.colaboratory.intrinsic+json": {
              "type": "string"
            }
          },
          "metadata": {},
          "execution_count": 29
        }
      ]
    },
    {
      "cell_type": "code",
      "source": [
        "number = 42\n",
        "str_number = str(number)\n",
        "\n",
        "str_number"
      ],
      "metadata": {
        "colab": {
          "base_uri": "https://localhost:8080/",
          "height": 35
        },
        "id": "mddlf5Pb1VYB",
        "outputId": "6a98bafe-f15a-4e92-ead4-6cde6a892f46"
      },
      "execution_count": 30,
      "outputs": [
        {
          "output_type": "execute_result",
          "data": {
            "text/plain": [
              "'42'"
            ],
            "application/vnd.google.colaboratory.intrinsic+json": {
              "type": "string"
            }
          },
          "metadata": {},
          "execution_count": 30
        }
      ]
    },
    {
      "cell_type": "code",
      "source": [
        "pi = 3.14159\n",
        "str_pi = str(pi)\n",
        "\n",
        "str_pi"
      ],
      "metadata": {
        "colab": {
          "base_uri": "https://localhost:8080/",
          "height": 35
        },
        "id": "Odr5GKC71b1p",
        "outputId": "56358037-95d7-4b6d-f5ae-d31bfeb56d19"
      },
      "execution_count": 31,
      "outputs": [
        {
          "output_type": "execute_result",
          "data": {
            "text/plain": [
              "'3.14159'"
            ],
            "application/vnd.google.colaboratory.intrinsic+json": {
              "type": "string"
            }
          },
          "metadata": {},
          "execution_count": 31
        }
      ]
    },
    {
      "cell_type": "code",
      "source": [
        "str_num = \"123\"\n",
        "int_num = int(str_num)\n",
        "\n",
        "str_num"
      ],
      "metadata": {
        "colab": {
          "base_uri": "https://localhost:8080/",
          "height": 35
        },
        "id": "lsk9R40f1f_w",
        "outputId": "c949a6a9-d06a-455f-9c01-af88df3252db"
      },
      "execution_count": 32,
      "outputs": [
        {
          "output_type": "execute_result",
          "data": {
            "text/plain": [
              "'123'"
            ],
            "application/vnd.google.colaboratory.intrinsic+json": {
              "type": "string"
            }
          },
          "metadata": {},
          "execution_count": 32
        }
      ]
    },
    {
      "cell_type": "code",
      "source": [
        "str_float = \"3.14\"\n",
        "float_num = float(str_float)\n",
        "\n",
        "float_num"
      ],
      "metadata": {
        "colab": {
          "base_uri": "https://localhost:8080/"
        },
        "id": "hI7OPlN61kD2",
        "outputId": "b014cddc-8997-4723-bc64-cdceb5a35957"
      },
      "execution_count": 33,
      "outputs": [
        {
          "output_type": "execute_result",
          "data": {
            "text/plain": [
              "3.14"
            ]
          },
          "metadata": {},
          "execution_count": 33
        }
      ]
    },
    {
      "cell_type": "code",
      "source": [
        "char = 'A'\n",
        "ascii_value = ord(char)\n",
        "\n",
        "ascii_value"
      ],
      "metadata": {
        "colab": {
          "base_uri": "https://localhost:8080/"
        },
        "id": "P-7Q-BBJ1mBQ",
        "outputId": "72cb18cd-f93f-4811-c42b-6578d5c01ff9"
      },
      "execution_count": 34,
      "outputs": [
        {
          "output_type": "execute_result",
          "data": {
            "text/plain": [
              "65"
            ]
          },
          "metadata": {},
          "execution_count": 34
        }
      ]
    },
    {
      "cell_type": "code",
      "source": [
        "#Import a library\n",
        "import re"
      ],
      "metadata": {
        "id": "gIbS9BX-13Xu"
      },
      "execution_count": 35,
      "outputs": []
    },
    {
      "cell_type": "code",
      "source": [
        "sample_text = \"abcxyzABCXYZabc xyz%$...| 676-898 \""
      ],
      "metadata": {
        "id": "RMs4CikI16zl"
      },
      "execution_count": 36,
      "outputs": []
    },
    {
      "cell_type": "code",
      "source": [
        "pattern = re.compile(r'abc') # this is used to store the pattern you want to search\n",
        "matches = pattern.findall(sample_text) # this is used to find all instanaces in a text that matches the pattern\n",
        "print(matches) # the result is in the form of a python list"
      ],
      "metadata": {
        "colab": {
          "base_uri": "https://localhost:8080/"
        },
        "id": "q0IPC8QU18d8",
        "outputId": "394fbe32-679f-4210-af43-ba2a0e9de38f"
      },
      "execution_count": 37,
      "outputs": [
        {
          "output_type": "stream",
          "name": "stdout",
          "text": [
            "['abc', 'abc']\n"
          ]
        }
      ]
    },
    {
      "cell_type": "code",
      "source": [
        "pattern = re.compile(r'.')\n",
        "matches = pattern.findall(sample_text)\n",
        "print(matches)"
      ],
      "metadata": {
        "colab": {
          "base_uri": "https://localhost:8080/"
        },
        "id": "FlClKeBd2wsh",
        "outputId": "fcd674dd-ee61-45e8-d028-21f29a389d32"
      },
      "execution_count": 38,
      "outputs": [
        {
          "output_type": "stream",
          "name": "stdout",
          "text": [
            "['a', 'b', 'c', 'x', 'y', 'z', 'A', 'B', 'C', 'X', 'Y', 'Z', 'a', 'b', 'c', ' ', 'x', 'y', 'z', '%', '$', '.', '.', '.', '|', ' ', '6', '7', '6', '-', '8', '9', '8', ' ']\n"
          ]
        }
      ]
    },
    {
      "cell_type": "code",
      "source": [
        "pattern = re.compile(r'\\d')\n",
        "matches = pattern.findall(sample_text)\n",
        "print(matches)"
      ],
      "metadata": {
        "colab": {
          "base_uri": "https://localhost:8080/"
        },
        "id": "4JvWZvij21UO",
        "outputId": "468494b7-d7da-4bc2-8e41-2fb5217f37b2"
      },
      "execution_count": 40,
      "outputs": [
        {
          "output_type": "stream",
          "name": "stdout",
          "text": [
            "['6', '7', '6', '8', '9', '8']\n"
          ]
        }
      ]
    },
    {
      "cell_type": "code",
      "source": [
        "pattern = re.compile(r'\\D')\n",
        "matches = pattern.findall(sample_text)\n",
        "print(matches)"
      ],
      "metadata": {
        "colab": {
          "base_uri": "https://localhost:8080/"
        },
        "id": "ZNmBQ1uT3MyH",
        "outputId": "0c350303-d8d0-4f29-fb4f-0fb01c316faa"
      },
      "execution_count": 41,
      "outputs": [
        {
          "output_type": "stream",
          "name": "stdout",
          "text": [
            "['a', 'b', 'c', 'x', 'y', 'z', 'A', 'B', 'C', 'X', 'Y', 'Z', 'a', 'b', 'c', ' ', 'x', 'y', 'z', '%', '$', '.', '.', '.', '|', ' ', '-', ' ']\n"
          ]
        }
      ]
    },
    {
      "cell_type": "code",
      "source": [
        "pattern = re.compile(r'\\w')\n",
        "matches = pattern.findall(sample_text)\n",
        "print(matches)"
      ],
      "metadata": {
        "colab": {
          "base_uri": "https://localhost:8080/"
        },
        "id": "5Ch7LrmG3XGw",
        "outputId": "04708769-68d4-40ed-90d4-cf0a67552085"
      },
      "execution_count": 42,
      "outputs": [
        {
          "output_type": "stream",
          "name": "stdout",
          "text": [
            "['a', 'b', 'c', 'x', 'y', 'z', 'A', 'B', 'C', 'X', 'Y', 'Z', 'a', 'b', 'c', 'x', 'y', 'z', '6', '7', '6', '8', '9', '8']\n"
          ]
        }
      ]
    },
    {
      "cell_type": "code",
      "source": [
        "pattern = re.compile(r'\\W')\n",
        "matches = pattern.findall(sample_text)\n",
        "print(matches)"
      ],
      "metadata": {
        "colab": {
          "base_uri": "https://localhost:8080/"
        },
        "id": "ljWb4gNQ3a1w",
        "outputId": "044cd564-7d40-425b-df1a-c97c0542e568"
      },
      "execution_count": 43,
      "outputs": [
        {
          "output_type": "stream",
          "name": "stdout",
          "text": [
            "[' ', '%', '$', '.', '.', '.', '|', ' ', '-', ' ']\n"
          ]
        }
      ]
    },
    {
      "cell_type": "code",
      "source": [
        "pattern = re.compile(r'\\s')\n",
        "matches = pattern.findall(sample_text)\n",
        "print(matches)"
      ],
      "metadata": {
        "colab": {
          "base_uri": "https://localhost:8080/"
        },
        "id": "YAoNQZ4a3eO_",
        "outputId": "cb25863d-aca0-4fad-b2a4-585be70dadc9"
      },
      "execution_count": 44,
      "outputs": [
        {
          "output_type": "stream",
          "name": "stdout",
          "text": [
            "[' ', ' ', ' ']\n"
          ]
        }
      ]
    },
    {
      "cell_type": "code",
      "source": [
        "pattern = re.compile(r'\\S')\n",
        "matches = pattern.findall(sample_text)\n",
        "print(matches)"
      ],
      "metadata": {
        "colab": {
          "base_uri": "https://localhost:8080/"
        },
        "id": "_lxqbYbB3lhs",
        "outputId": "23725a71-88ef-4772-df3f-cd57e8f14379"
      },
      "execution_count": 45,
      "outputs": [
        {
          "output_type": "stream",
          "name": "stdout",
          "text": [
            "['a', 'b', 'c', 'x', 'y', 'z', 'A', 'B', 'C', 'X', 'Y', 'Z', 'a', 'b', 'c', 'x', 'y', 'z', '%', '$', '.', '.', '.', '|', '6', '7', '6', '-', '8', '9', '8']\n"
          ]
        }
      ]
    },
    {
      "cell_type": "code",
      "source": [
        "pattern = re.compile(r'\\.')\n",
        "matches = pattern.findall(sample_text)\n",
        "print(matches)"
      ],
      "metadata": {
        "colab": {
          "base_uri": "https://localhost:8080/"
        },
        "id": "Ph-7qjMP3pNe",
        "outputId": "1d1e4e71-0a23-412f-8367-1aac8fea54e1"
      },
      "execution_count": 46,
      "outputs": [
        {
          "output_type": "stream",
          "name": "stdout",
          "text": [
            "['.', '.', '.']\n"
          ]
        }
      ]
    },
    {
      "cell_type": "code",
      "source": [
        "text = \"Hello World! This is a test.\"\n",
        "words = re.split(r'\\s+', text)\n",
        "\n",
        "words"
      ],
      "metadata": {
        "colab": {
          "base_uri": "https://localhost:8080/"
        },
        "id": "NJ6CCzBD3sUQ",
        "outputId": "e1cc9d45-d8c8-47a7-cd6b-c1cb894b059d"
      },
      "execution_count": 47,
      "outputs": [
        {
          "output_type": "execute_result",
          "data": {
            "text/plain": [
              "['Hello', 'World!', 'This', 'is', 'a', 'test.']"
            ]
          },
          "metadata": {},
          "execution_count": 47
        }
      ]
    },
    {
      "cell_type": "code",
      "source": [
        "text = \"apple,banana, cherry, date\"\n",
        "fruits = re.split(r',\\s*', text)\n",
        "print(fruits)"
      ],
      "metadata": {
        "colab": {
          "base_uri": "https://localhost:8080/"
        },
        "id": "FvOXDBI_3v3X",
        "outputId": "bcb5e0b7-2e8f-4a7c-cced-4127f23fcf21"
      },
      "execution_count": 48,
      "outputs": [
        {
          "output_type": "stream",
          "name": "stdout",
          "text": [
            "['apple', 'banana', 'cherry', 'date']\n"
          ]
        }
      ]
    },
    {
      "cell_type": "code",
      "source": [
        "text = \"One, two; three - four\"\n",
        "items = re.split(r'[,\\s;.-]+', text)\n",
        "print(items)"
      ],
      "metadata": {
        "colab": {
          "base_uri": "https://localhost:8080/"
        },
        "id": "jyV9tkXs3yyb",
        "outputId": "8ade02ad-3180-40aa-beeb-c4012af306f8"
      },
      "execution_count": 50,
      "outputs": [
        {
          "output_type": "stream",
          "name": "stdout",
          "text": [
            "['One', 'two', 'three', 'four']\n"
          ]
        }
      ]
    },
    {
      "cell_type": "code",
      "source": [
        "text = \"The year is 2023\"\n",
        "parts = re.split(r'\\d+', text)\n",
        "print(parts)"
      ],
      "metadata": {
        "colab": {
          "base_uri": "https://localhost:8080/"
        },
        "id": "RwpgenXO319q",
        "outputId": "4f751396-0bf3-4b2c-f730-e9c2354e3bff"
      },
      "execution_count": 51,
      "outputs": [
        {
          "output_type": "stream",
          "name": "stdout",
          "text": [
            "['The year is ', '']\n"
          ]
        }
      ]
    },
    {
      "cell_type": "code",
      "source": [
        "text = \"Hello! World@ This# is^ a$ test%\"\n",
        "words = re.split(r'\\W+', text)\n",
        "print(words)"
      ],
      "metadata": {
        "colab": {
          "base_uri": "https://localhost:8080/"
        },
        "id": "XSb7yk7N36cx",
        "outputId": "1472d898-a2d4-4546-eb1b-456a089ebbec"
      },
      "execution_count": 52,
      "outputs": [
        {
          "output_type": "stream",
          "name": "stdout",
          "text": [
            "['Hello', 'World', 'This', 'is', 'a', 'test', '']\n"
          ]
        }
      ]
    },
    {
      "cell_type": "code",
      "source": [
        "sample_text = \"\"\"\n",
        "2021-01-01: January 2021, Friday: Mr. Xyz\n",
        "2021-07-19: July 2021, Monday: Mr L\n",
        "2021-05-28: May 2021, Friday: Ms. IOU abc\n",
        "2021/11/10: November 2021, Wednesday: Dr. Moby D\n",
        "2020-01-01xyzabc: Jan 10th: Dr Dora The Exp\n",
        "2020-04-02 0-1102-010002: Mrs. Joy\n",
        "2020-02-01 0-12-010002: Mr. Mario\n",
        "2019-09-18: suu: Mr. Luigi\n",
        "2018-07-01: hha iuas\n",
        "21-10-19: xyuz sus\n",
        "21-10-18\n",
        "21-9-20\n",
        "21-8-14\n",
        "21/12/02\n",
        "21/11/14\n",
        "21/10/21\n",
        "\"\"\""
      ],
      "metadata": {
        "id": "V_hJlqfV38gK"
      },
      "execution_count": 53,
      "outputs": []
    },
    {
      "cell_type": "code",
      "source": [
        "pattern = re.compile(r'\\d\\d\\d\\d-\\d\\d-\\d\\d')\n",
        "matches = pattern.findall(sample_text)\n",
        "print(matches)"
      ],
      "metadata": {
        "colab": {
          "base_uri": "https://localhost:8080/"
        },
        "id": "0rE8yOJK4ELr",
        "outputId": "7437672d-2e6f-41ca-db4d-21938de94aae"
      },
      "execution_count": 54,
      "outputs": [
        {
          "output_type": "stream",
          "name": "stdout",
          "text": [
            "['2021-01-01', '2021-07-19', '2021-05-28', '2020-01-01', '2020-04-02', '2020-02-01', '2019-09-18', '2018-07-01']\n"
          ]
        }
      ]
    },
    {
      "cell_type": "code",
      "source": [
        "pattern = re.compile(r'\\d+-\\d+-\\d+')\n",
        "matches = pattern.findall(sample_text)\n",
        "print(matches)"
      ],
      "metadata": {
        "colab": {
          "base_uri": "https://localhost:8080/"
        },
        "id": "uhqlbEzV4J_r",
        "outputId": "148d03b9-c119-4a6a-9281-a44a73d3d70f"
      },
      "execution_count": 55,
      "outputs": [
        {
          "output_type": "stream",
          "name": "stdout",
          "text": [
            "['2021-01-01', '2021-07-19', '2021-05-28', '2020-01-01', '2020-04-02', '0-1102-010002', '2020-02-01', '0-12-010002', '2019-09-18', '2018-07-01', '21-10-19', '21-10-18', '21-9-20', '21-8-14']\n"
          ]
        }
      ]
    },
    {
      "cell_type": "code",
      "source": [
        "pattern = re.compile(r'\\d{4}-\\d{2}-\\d{2}')\n",
        "matches = pattern.findall(sample_text)\n",
        "print(matches)"
      ],
      "metadata": {
        "colab": {
          "base_uri": "https://localhost:8080/"
        },
        "id": "7F_TGRxy4NLQ",
        "outputId": "169da17e-7849-4c09-ed29-c01eb8f7bbed"
      },
      "execution_count": 56,
      "outputs": [
        {
          "output_type": "stream",
          "name": "stdout",
          "text": [
            "['2021-01-01', '2021-07-19', '2021-05-28', '2020-01-01', '2020-04-02', '2020-02-01', '2019-09-18', '2018-07-01']\n"
          ]
        }
      ]
    },
    {
      "cell_type": "code",
      "source": [
        "pattern = re.compile(r'\\d{2,4}-\\d{1,2}-\\d{2}')\n",
        "matches = pattern.findall(sample_text)\n",
        "print(matches)"
      ],
      "metadata": {
        "colab": {
          "base_uri": "https://localhost:8080/"
        },
        "id": "QlTiJg-Z4RaU",
        "outputId": "ff8bcd21-043e-4829-8915-3e987eae9d02"
      },
      "execution_count": 57,
      "outputs": [
        {
          "output_type": "stream",
          "name": "stdout",
          "text": [
            "['2021-01-01', '2021-07-19', '2021-05-28', '2020-01-01', '2020-04-02', '2020-02-01', '2019-09-18', '2018-07-01', '21-10-19', '21-10-18', '21-9-20', '21-8-14']\n"
          ]
        }
      ]
    },
    {
      "cell_type": "code",
      "source": [
        "pattern = re.compile(r'\\d{2,4}[-/]\\d{1,2}[-/]\\d{2}')\n",
        "matches = pattern.findall(sample_text)\n",
        "print(matches)"
      ],
      "metadata": {
        "colab": {
          "base_uri": "https://localhost:8080/"
        },
        "id": "b_WdkOph4a3-",
        "outputId": "a600fbcb-dd2b-461a-fbf6-73ea9a47d606"
      },
      "execution_count": 58,
      "outputs": [
        {
          "output_type": "stream",
          "name": "stdout",
          "text": [
            "['2021-01-01', '2021-07-19', '2021-05-28', '2021/11/10', '2020-01-01', '2020-04-02', '2020-02-01', '2019-09-18', '2018-07-01', '21-10-19', '21-10-18', '21-9-20', '21-8-14', '21/12/02', '21/11/14', '21/10/21']\n"
          ]
        }
      ]
    },
    {
      "cell_type": "code",
      "source": [
        "sample_text = \"\"\"\n",
        "2021-01-01: January 2021, Friday: Mr. Xyz\n",
        "2021-07-19: July 2021, Monday: Mr L\n",
        "2021-05-28: May 2021, Friday: Ms. IOU abc\n",
        "2021/11/10: November 2021, Wednesday: Dr. Moby D\n",
        "2020-01-01xyzabc: Jan 10th: Dr Dora The Exp\n",
        "2020-04-02 0-1102-010002: Mrs. Joy\n",
        "2020-02-01 0-12-010002: Mr. Mario\n",
        "2019-09-18: suu: Mr. Luigi\n",
        "2018-07-01: hha iuas\n",
        "21-10-19: xyuz sus\n",
        "21-10-18\n",
        "21-9-20\n",
        "21-8-14\n",
        "21/12/02\n",
        "21/11/14\n",
        "21/10/21\n",
        "\"\"\""
      ],
      "metadata": {
        "id": "hweIMOGs4iu1"
      },
      "execution_count": 59,
      "outputs": []
    },
    {
      "cell_type": "code",
      "source": [
        "pattern = re.compile(r'Mr')\n",
        "matches = pattern.findall(sample_text)\n",
        "print(matches)"
      ],
      "metadata": {
        "colab": {
          "base_uri": "https://localhost:8080/"
        },
        "id": "6duHEt6s4lkG",
        "outputId": "38cbacca-3e74-4171-aeb6-709fa86ff7a1"
      },
      "execution_count": 60,
      "outputs": [
        {
          "output_type": "stream",
          "name": "stdout",
          "text": [
            "['Mr', 'Mr', 'Mr', 'Mr', 'Mr']\n"
          ]
        }
      ]
    },
    {
      "cell_type": "code",
      "source": [
        "pattern = re.compile(r'Mr\\.?')\n",
        "matches = pattern.findall(sample_text)\n",
        "print(matches)"
      ],
      "metadata": {
        "colab": {
          "base_uri": "https://localhost:8080/"
        },
        "id": "MOAMvrHk4o6i",
        "outputId": "b8852b8a-81fb-47be-8b6e-339a8a0d775e"
      },
      "execution_count": 61,
      "outputs": [
        {
          "output_type": "stream",
          "name": "stdout",
          "text": [
            "['Mr.', 'Mr', 'Mr', 'Mr.', 'Mr.']\n"
          ]
        }
      ]
    },
    {
      "cell_type": "code",
      "source": [
        "pattern = re.compile(r'(?:Mr|Ms|Mrs|Dr)\\.?')\n",
        "matches = pattern.findall(sample_text)\n",
        "print(matches)"
      ],
      "metadata": {
        "colab": {
          "base_uri": "https://localhost:8080/"
        },
        "id": "3FAsYqRO4qqt",
        "outputId": "38abcd5d-75bc-4506-86c1-c6864ffb1284"
      },
      "execution_count": 62,
      "outputs": [
        {
          "output_type": "stream",
          "name": "stdout",
          "text": [
            "['Mr.', 'Mr', 'Ms.', 'Dr.', 'Dr', 'Mr', 'Mr.', 'Mr.']\n"
          ]
        }
      ]
    },
    {
      "cell_type": "code",
      "source": [
        "pattern = re.compile(r'(?:Mr|Ms|Mrs|Dr)\\.?\\s[A-Z]\\w*')\n",
        "matches = pattern.findall(sample_text)\n",
        "print(matches)"
      ],
      "metadata": {
        "colab": {
          "base_uri": "https://localhost:8080/"
        },
        "id": "doIj37Hd4u3H",
        "outputId": "4c50106c-be84-4be2-abd3-5da973402092"
      },
      "execution_count": 63,
      "outputs": [
        {
          "output_type": "stream",
          "name": "stdout",
          "text": [
            "['Mr. Xyz', 'Mr L', 'Ms. IOU', 'Dr. Moby', 'Dr Dora', 'Mrs. Joy', 'Mr. Mario', 'Mr. Luigi']\n"
          ]
        }
      ]
    },
    {
      "cell_type": "code",
      "source": [
        "sample_text = \"\"\"\n",
        "2021-01-01: January 2021, Friday: Mr. Xyz\n",
        "2021-07-19: July 2021, Monday: Mr L\n",
        "2021-05-28: May 2021, Friday: Ms. IOU abc\n",
        "2021/11/10: November 2021, Wednesday: Dr. Moby D\n",
        "2020-01-01xyzabc: Jan 10th: Dr Dora The Exp\n",
        "2020-04-02 0-1102-010002: Mrs. Joy\n",
        "2020-02-01 0-12-010002: Mr. Mario\n",
        "2019-09-18: suu: Mr. Luigi\n",
        "2018-07-01: hha iuas\n",
        "21-10-19: xyuz sus\n",
        "21-10-18\n",
        "21-9-20\n",
        "21-8-14\n",
        "21/12/02\n",
        "21/11/14\n",
        "21/10/21\n",
        "\"\"\""
      ],
      "metadata": {
        "id": "RnS9jjPA49RJ"
      },
      "execution_count": 64,
      "outputs": []
    },
    {
      "cell_type": "code",
      "source": [
        "pattern = re.compile(r'(?:Mr|Ms|Mrs|Dr)\\.?\\s[A-Z]\\w* ?(?:[A-Za-z]\\w*)? ?(?:[A-Za-z]\\w*)?')\n",
        "matches = pattern.findall(sample_text)\n",
        "print(matches)"
      ],
      "metadata": {
        "colab": {
          "base_uri": "https://localhost:8080/"
        },
        "id": "KbnKw4dE5AZJ",
        "outputId": "9c940369-32cf-4a5a-c513-b21168ffbd83"
      },
      "execution_count": 65,
      "outputs": [
        {
          "output_type": "stream",
          "name": "stdout",
          "text": [
            "['Mr. Xyz', 'Mr L', 'Ms. IOU abc', 'Dr. Moby D', 'Dr Dora The Exp', 'Mrs. Joy', 'Mr. Mario', 'Mr. Luigi']\n"
          ]
        }
      ]
    }
  ]
}