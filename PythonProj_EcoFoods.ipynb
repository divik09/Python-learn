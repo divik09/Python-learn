{
  "nbformat": 4,
  "nbformat_minor": 0,
  "metadata": {
    "colab": {
      "provenance": []
    },
    "kernelspec": {
      "name": "python3",
      "display_name": "Python 3"
    },
    "language_info": {
      "name": "python"
    }
  },
  "cells": [
    {
      "cell_type": "code",
      "execution_count": 1,
      "metadata": {
        "id": "5Yw5mZPi03vN"
      },
      "outputs": [],
      "source": [
        "total_sales = \"5000\""
      ]
    },
    {
      "cell_type": "code",
      "source": [
        "total_sales = \"5000\"\n",
        "total_sales_int = int(total_sales)  # Convert from string to integer"
      ],
      "metadata": {
        "id": "3GpdJeljtQZs"
      },
      "execution_count": 2,
      "outputs": []
    },
    {
      "cell_type": "code",
      "source": [
        "fruits_sales = \"1500\"\n",
        "vegetables_sales = \"2000\"\n",
        "grains_sales = \"1500\""
      ],
      "metadata": {
        "id": "NgzsugFBtkfF"
      },
      "execution_count": 3,
      "outputs": []
    },
    {
      "cell_type": "code",
      "source": [
        "# Convert string to integers\n",
        "fruits_sales_int = int(fruits_sales)\n",
        "vegetables_sales_int = int(vegetables_sales)\n",
        "grains_sales_int = int(grains_sales)\n",
        "\n",
        "# Calculate total sales\n",
        "total_sales = fruits_sales_int + vegetables_sales_int + grains_sales_int\n",
        "\n",
        "print(f\"Total sales for the day: {total_sales}\")"
      ],
      "metadata": {
        "colab": {
          "base_uri": "https://localhost:8080/"
        },
        "id": "MqXf9GKStyBb",
        "outputId": "45989002-3978-4c4c-f1ea-2dd9430c3e53"
      },
      "execution_count": 4,
      "outputs": [
        {
          "output_type": "stream",
          "name": "stdout",
          "text": [
            "Total sales for the day: 5000\n"
          ]
        }
      ]
    },
    {
      "cell_type": "code",
      "source": [
        "weekly_sales_apples = [300, 450, 520, 610, 470, 415, 480]"
      ],
      "metadata": {
        "id": "Fq9exJPTtzrw"
      },
      "execution_count": 5,
      "outputs": []
    },
    {
      "cell_type": "code",
      "source": [
        "apple_info = (101, \"Organic Apple\")"
      ],
      "metadata": {
        "id": "24kl5KiXuUnX"
      },
      "execution_count": 6,
      "outputs": []
    },
    {
      "cell_type": "code",
      "source": [
        "# Using lists to track weekly sales data for multiple products\n",
        "weekly_sales_apples = [300, 450, 520, 610, 470, 415, 480]\n",
        "weekly_sales_oranges = [200, 300, 400, 300, 200, 500, 400]\n",
        "\n",
        "# Using tuples for product information\n",
        "apple_info = (101, \"Organic Apple\")\n",
        "orange_info = (102, \"Organic Orange\")\n",
        "\n",
        "# Calculating total weekly sales for apples and oranges\n",
        "total_weekly_sales_apples = sum(weekly_sales_apples)\n",
        "total_weekly_sales_oranges = sum(weekly_sales_oranges)\n",
        "\n",
        "print(f\"Total weekly sales of apples: {total_weekly_sales_apples}\")\n",
        "print(f\"Total weekly sales of oranges: {total_weekly_sales_oranges}\")"
      ],
      "metadata": {
        "colab": {
          "base_uri": "https://localhost:8080/"
        },
        "id": "b3z_D_X0uZf5",
        "outputId": "c1b22198-570c-420b-8fa7-070144fe5bd0"
      },
      "execution_count": 7,
      "outputs": [
        {
          "output_type": "stream",
          "name": "stdout",
          "text": [
            "Total weekly sales of apples: 3245\n",
            "Total weekly sales of oranges: 2300\n"
          ]
        }
      ]
    },
    {
      "cell_type": "code",
      "source": [
        "# Creating a dictionary for product details\n",
        "product_details = {\n",
        "    101: (\"Organic Apple\", 1.5),\n",
        "    102: (\"Organic Orange\", 1.2),\n",
        "    103: (\"Organic Banana\", 0.8)\n",
        "}\n",
        "\n",
        "# Adding a new product\n",
        "product_details[104] = (\"Organic Avocado\", 2.0)\n",
        "\n",
        "# Retrieving and printing product information\n",
        "for product_id, info in product_details.items():\n",
        "    print(f\"Product ID: {product_id}, Name: {info[0]}, Price: ${info[1]}\")\n"
      ],
      "metadata": {
        "colab": {
          "base_uri": "https://localhost:8080/"
        },
        "id": "QcKgsFxBu73T",
        "outputId": "d928e398-9990-4dab-acb6-ee919ad99372"
      },
      "execution_count": 8,
      "outputs": [
        {
          "output_type": "stream",
          "name": "stdout",
          "text": [
            "Product ID: 101, Name: Organic Apple, Price: $1.5\n",
            "Product ID: 102, Name: Organic Orange, Price: $1.2\n",
            "Product ID: 103, Name: Organic Banana, Price: $0.8\n",
            "Product ID: 104, Name: Organic Avocado, Price: $2.0\n"
          ]
        }
      ]
    },
    {
      "cell_type": "code",
      "source": [
        "customer_data = {\n",
        "    \"C001\": {\n",
        "        \"name\": \"Alice\",\n",
        "        \"email\": \"alice@example.com\",\n",
        "        \"orders\": [\"101\", \"103\"],\n",
        "        \"feedback\": [\"Loved the apples!\", \"Bananas could be riper.\"]\n",
        "    },\n",
        "    \"C002\": {\n",
        "        \"name\": \"Bob\",\n",
        "        \"email\": \"bob@example.com\",\n",
        "        \"orders\": [\"102\"],\n",
        "        \"feedback\": [\"Oranges are fantastic.\"]\n",
        "    }\n",
        "}\n",
        "\n",
        "# Adding feedback for a customer\n",
        "customer_data[\"C001\"][\"feedback\"].append(\"Great service!\")\n",
        "\n",
        "# Printing customer feedback\n",
        "for customer_id, details in customer_data.items():\n",
        " print(f\"Customer ID: {customer_id}, Feedback: {details['feedback']}\")"
      ],
      "metadata": {
        "colab": {
          "base_uri": "https://localhost:8080/"
        },
        "id": "smf38_luveRj",
        "outputId": "5c9ad4cb-73ae-4ce7-c13a-8cf2b30dd778"
      },
      "execution_count": 9,
      "outputs": [
        {
          "output_type": "stream",
          "name": "stdout",
          "text": [
            "Customer ID: C001, Feedback: ['Loved the apples!', 'Bananas could be riper.', 'Great service!']\n",
            "Customer ID: C002, Feedback: ['Oranges are fantastic.']\n"
          ]
        }
      ]
    },
    {
      "cell_type": "code",
      "source": [
        "customer_orders = {\n",
        "    \"Alice\": 12,\n",
        "    \"Bob\": 7,\n",
        "    \"Charlie\": 3\n",
        "}\n",
        "\n",
        "# Determining discount rates\n",
        "for customer, orders in customer_orders.items():\n",
        "    if orders > 10:\n",
        "        discount = 15\n",
        "    elif orders >= 5:\n",
        "        discount = 10\n",
        "    else:\n",
        "        discount = 5\n",
        "\n",
        "    print(f\"{customer} gets a {discount}% discount based on their order history.\")"
      ],
      "metadata": {
        "colab": {
          "base_uri": "https://localhost:8080/"
        },
        "id": "uz6LEok3wBGb",
        "outputId": "e8f89fa2-15e6-4ae8-9245-f3b21b97a61e"
      },
      "execution_count": 10,
      "outputs": [
        {
          "output_type": "stream",
          "name": "stdout",
          "text": [
            "Alice gets a 15% discount based on their order history.\n",
            "Bob gets a 10% discount based on their order history.\n",
            "Charlie gets a 5% discount based on their order history.\n"
          ]
        }
      ]
    },
    {
      "cell_type": "code",
      "source": [
        "customer_data = {\n",
        "    \"Alice\": {\"orders\": 12, \"total_spend\": 1200},\n",
        "    \"Bob\": {\"orders\": 7, \"total_spend\": 700},\n",
        "    \"Charlie\": {\"orders\": 3, \"total_spend\": 300}\n",
        "}\n",
        "\n",
        "# Updated discount policy considering order count and total spend\n",
        "for customer, info in customer_data.items():\n",
        "    orders = info[\"orders\"]\n",
        "    total_spend = info[\"total_spend\"]\n",
        "\n",
        "    if orders > 10 or total_spend > 1000:\n",
        "        discount = 15\n",
        "    elif orders >= 5 or (total_spend >= 500 and total_spend <= 1000):\n",
        "        discount = 10\n",
        "    else:\n",
        "        discount = 5\n",
        "\n",
        "    print(f\"{customer} gets a {discount}% discount.\")"
      ],
      "metadata": {
        "colab": {
          "base_uri": "https://localhost:8080/"
        },
        "id": "R0LTmIECwah8",
        "outputId": "aa136932-c249-46c3-f052-c478cc9090db"
      },
      "execution_count": 11,
      "outputs": [
        {
          "output_type": "stream",
          "name": "stdout",
          "text": [
            "Alice gets a 15% discount.\n",
            "Bob gets a 10% discount.\n",
            "Charlie gets a 5% discount.\n"
          ]
        }
      ]
    },
    {
      "cell_type": "code",
      "source": [
        "monthly_sales = [1200, 1100, 1250, 1300, 1200, 1150, 1100, 1180, 1220, 1280, 1250, 1300]\n",
        "\n",
        "# Calculating total and average monthly sales\n",
        "total_sales = 0\n",
        "for daily_sales in monthly_sales:\n",
        "    total_sales += daily_sales\n",
        "\n",
        "average_sales = total_sales / len(monthly_sales)\n",
        "\n",
        "print(f\"Total monthly sales: {total_sales}\")\n",
        "print(f\"Average daily sales: {average_sales:.2f}\")"
      ],
      "metadata": {
        "colab": {
          "base_uri": "https://localhost:8080/"
        },
        "id": "N2YdYVh-xDlX",
        "outputId": "6c87f7dc-3b1e-4bcd-f160-675ff5397ce0"
      },
      "execution_count": 12,
      "outputs": [
        {
          "output_type": "stream",
          "name": "stdout",
          "text": [
            "Total monthly sales: 14530\n",
            "Average daily sales: 1210.83\n"
          ]
        }
      ]
    },
    {
      "cell_type": "code",
      "source": [
        "product_stock = {\n",
        "    \"Organic Apple\": 30,\n",
        "    \"Organic Orange\": 20,\n",
        "    \"Organic Banana\": 15,\n",
        "    \"Organic Avocado\": 5\n",
        "}\n",
        "\n",
        "# Checking stock levels and identifying products that need restocking\n",
        "restock_threshold = 10  # Minimum desired stock level\n",
        "for product, stock in product_stock.items():\n",
        "    if stock < restock_threshold:\n",
        "        print(f\"{product} needs restocking.\")"
      ],
      "metadata": {
        "colab": {
          "base_uri": "https://localhost:8080/"
        },
        "id": "IZQ6CSd3xQZ0",
        "outputId": "2df3f8ad-e1db-479c-9ffe-4184f596dca7"
      },
      "execution_count": 13,
      "outputs": [
        {
          "output_type": "stream",
          "name": "stdout",
          "text": [
            "Organic Avocado needs restocking.\n"
          ]
        }
      ]
    },
    {
      "cell_type": "code",
      "source": [
        "customer_orders = [\n",
        "    {\"customer_id\": \"C001\", \"orders\": [\"Organic Apple\", \"Organic Banana\"]},\n",
        "    {\"customer_id\": \"C002\", \"orders\": [\"Organic Avocado\", \"Organic Orange\"]},\n",
        "    {\"customer_id\": \"C003\", \"orders\": [\"Organic Apple\", \"Organic Orange\"]},\n",
        "    # Add more customer orders\n",
        "]\n",
        "\n",
        "# Counting the number of times each product was ordered\n",
        "order_count = {}\n",
        "for order in customer_orders:\n",
        "    for product in order[\"orders\"]:\n",
        "        if product in order_count:\n",
        "            order_count[product] += 1\n",
        "        else:\n",
        "            order_count[product] = 1\n",
        "\n",
        "# Printing the most ordered products\n",
        "most_ordered = sorted(order_count.items(), key=lambda x: x[1], reverse=True)\n",
        "print(\"Most ordered products:\")\n",
        "for product, count in most_ordered:\n",
        "    print(f\"{product}: {count} times\")"
      ],
      "metadata": {
        "colab": {
          "base_uri": "https://localhost:8080/"
        },
        "id": "8R3P16o4xgX2",
        "outputId": "1a891cd2-665d-48de-c1a6-cc2363b716a5"
      },
      "execution_count": 14,
      "outputs": [
        {
          "output_type": "stream",
          "name": "stdout",
          "text": [
            "Most ordered products:\n",
            "Organic Apple: 2 times\n",
            "Organic Orange: 2 times\n",
            "Organic Banana: 1 times\n",
            "Organic Avocado: 1 times\n"
          ]
        }
      ]
    },
    {
      "cell_type": "code",
      "source": [
        "def calculate_order_total(prices, quantities):\n",
        "    total = 0\n",
        "    for price, quantity in zip(prices, quantities):\n",
        "        total += price * quantity\n",
        "    return total\n",
        "\n",
        "# Example usage\n",
        "prices = [1.5, 2.0, 0.8]  # Prices for apples, oranges, bananas\n",
        "quantities = [10, 5, 8]  # Corresponding quantities ordered\n",
        "order_total = calculate_order_total(prices, quantities)\n",
        "print(f\"Order total: ${order_total:.2f}\")"
      ],
      "metadata": {
        "colab": {
          "base_uri": "https://localhost:8080/"
        },
        "id": "jnKosTWezWE4",
        "outputId": "c32301bd-4092-41e9-9bbe-311d810abc2f"
      },
      "execution_count": 1,
      "outputs": [
        {
          "output_type": "stream",
          "name": "stdout",
          "text": [
            "Order total: $31.40\n"
          ]
        }
      ]
    },
    {
      "cell_type": "code",
      "source": [
        "def apply_discount(total, discount_rate):\n",
        "    \"\"\"Applies a discount to the total amount and returns the discounted total.\"\"\"\n",
        "    discount_amount = total * (discount_rate / 100)\n",
        "    return total - discount_amount\n",
        "\n",
        "# Example usage\n",
        "discounted_total = apply_discount(order_total, 10)  # Applying a 10% discount\n",
        "print(f\"Discounted total: ${discounted_total:.2f}\")"
      ],
      "metadata": {
        "colab": {
          "base_uri": "https://localhost:8080/"
        },
        "id": "tff493Tm9kpz",
        "outputId": "54cb7364-17ce-4728-ef44-cdc128c4f506"
      },
      "execution_count": 2,
      "outputs": [
        {
          "output_type": "stream",
          "name": "stdout",
          "text": [
            "Discounted total: $28.26\n"
          ]
        }
      ]
    },
    {
      "cell_type": "code",
      "source": [
        "def send_email(recipient, subject, message):\n",
        "    # This is a placeholder function for sending emails\n",
        "    print(f\"Sending email to {recipient} - Subject: {subject} - Message: {message}\")\n",
        "\n",
        "# Example usage\n",
        "send_email(\"customer@example.com\", \"Your EcoFoods Order\", \"Thank you for your order!\")"
      ],
      "metadata": {
        "colab": {
          "base_uri": "https://localhost:8080/"
        },
        "id": "aGJRbUSV9vkb",
        "outputId": "fbcbb4dc-1357-4082-9376-3d734f4e3d31"
      },
      "execution_count": 3,
      "outputs": [
        {
          "output_type": "stream",
          "name": "stdout",
          "text": [
            "Sending email to customer@example.com - Subject: Your EcoFoods Order - Message: Thank you for your order!\n"
          ]
        }
      ]
    },
    {
      "cell_type": "code",
      "source": [
        "def create_subscription_box(*products):\n",
        "    box_contents = list(products)\n",
        "    print(\"Creating a subscription box with the following items:\")\n",
        "    for product in box_contents:\n",
        "        print(f\"- {product}\")\n",
        "\n",
        "# Example usage\n",
        "create_subscription_box(\"Organic Apple\", \"Organic Orange\", \"Organic Banana\")"
      ],
      "metadata": {
        "colab": {
          "base_uri": "https://localhost:8080/"
        },
        "id": "QJ2d2Km195nB",
        "outputId": "2aa2b39b-05db-41ba-8c4f-8761cb0db801"
      },
      "execution_count": 4,
      "outputs": [
        {
          "output_type": "stream",
          "name": "stdout",
          "text": [
            "Creating a subscription box with the following items:\n",
            "- Organic Apple\n",
            "- Organic Orange\n",
            "- Organic Banana\n"
          ]
        }
      ]
    },
    {
      "cell_type": "code",
      "source": [
        "def process_order(customer, *products, **preferences):\n",
        "    print(f\"Processing order for {customer}:\")\n",
        "    for product in products:\n",
        "        print(f\"- {product}\")\n",
        "    if preferences:\n",
        "        print(\"Customer preferences:\")\n",
        "        for pref, value in preferences.items():\n",
        "            print(f\"- {pref}: {value}\")\n",
        "\n",
        "# Example usage\n",
        "process_order(\"Alice\", \"Organic Apple\", \"Organic Orange\", delivery_instructions=\"Leave at front door\", vegan=True)"
      ],
      "metadata": {
        "colab": {
          "base_uri": "https://localhost:8080/"
        },
        "id": "ZsVEgqkZ-Bp4",
        "outputId": "b2bf0a08-a140-4967-f46e-42b36ab76fdb"
      },
      "execution_count": 5,
      "outputs": [
        {
          "output_type": "stream",
          "name": "stdout",
          "text": [
            "Processing order for Alice:\n",
            "- Organic Apple\n",
            "- Organic Orange\n",
            "Customer preferences:\n",
            "- delivery_instructions: Leave at front door\n",
            "- vegan: True\n"
          ]
        }
      ]
    }
  ]
}